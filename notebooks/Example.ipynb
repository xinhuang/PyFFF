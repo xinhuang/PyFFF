{
 "cells": [
  {
   "cell_type": "code",
   "execution_count": 1,
   "metadata": {},
   "outputs": [
    {
     "data": {
      "text/plain": [
       "  #  Slot      Start  End       Length  Description\n",
       "---  ------  -------  ------  --------  ----------------------------------\n",
       "  1  0             0  0              1  Master Boot Record\n",
       "  2  0:-           1  31            30  Unallocated\n",
       "  3  0:0          32  30719      30688  Linux native partition (0x83)\n",
       "  4  0:1       30720  98303      67584  Linux swap (0x82)\n",
       "  5  0:2       98304  208895    110592  Linux native partition (0x83)\n",
       "  6  0:-      208896  212991      4095  Unallocated\n",
       "  7  0:3      212992  417791    204800  DOS 3.3+ Extended Partition (0x5)\n",
       "  8  1        212992  212992         1  Extended Boot Record\n",
       "  9  1:-      212993  213023        30  Unallocated\n",
       " 10  1:0      213024  286719     73696  Linux native partition (0x83)\n",
       " 11  1:1      286720  417791    131072  DOS 3.3+ Extended Partition (0x5)\n",
       " 12  2        286720  286720         1  Extended Boot Record\n",
       " 13  2:-      286721  286751        30  Unallocated\n",
       " 14  2:0      286752  417791    131040  Linux native partition (0x83)\n",
       " 15  2:-      417792  417792         0  Unallocated\n",
       " 16  2:1      286720  -              0  Unused Partition Table Entry (0x0)\n",
       " 17  2:2      286720  -              0  Unused Partition Table Entry (0x0)\n",
       " 18  2:3      286720  -              0  Unused Partition Table Entry (0x0)\n",
       " 19  1:-      417792  417792         0  Unallocated\n",
       " 20  1:2      212992  -              0  Unused Partition Table Entry (0x0)\n",
       " 21  1:3      212992  -              0  Unused Partition Table Entry (0x0)\n",
       " 22  0:-      417792  419430      1638  Unallocated"
      ]
     },
     "execution_count": 1,
     "metadata": {},
     "output_type": "execute_result"
    }
   ],
   "source": [
    "import fff\n",
    "from hexdump import hexdump as hd\n",
    "\n",
    "disk = fff.DiskImage('/Users/xin/practice1.dd.zip')\n",
    "\n",
    "disk.volume"
   ]
  },
  {
   "cell_type": "code",
   "execution_count": 2,
   "metadata": {},
   "outputs": [
    {
     "name": "stdout",
     "output_type": "stream",
     "text": [
      "  #  Slot      Start    End    Length  Description        CHS\n",
      "---  ------  -------  -----  --------  -----------------  ---------------------\n",
      "  4  0:1       30720  98303     67584  Linux swap (0x82)  CHS 15/0/1 - 47/63/32\n"
     ]
    }
   ],
   "source": [
    "print(disk.volume[4])"
   ]
  },
  {
   "cell_type": "code",
   "execution_count": 3,
   "metadata": {},
   "outputs": [
    {
     "name": "stdout",
     "output_type": "stream",
     "text": [
      "{'data': b'\\xeb<\\x90mkdosfs\\x00\\x00\\x02\\x04\\x08\\x00\\x02\\xe0\\x00\\x00\\x00\\xf8H\\x00 \\x00@\\x00\\x00\\x00\\x00\\x00\\xe0\\x1f\\x01\\x00\\x00\\x00)\\x04<\\xa0IMyData     FAT16   \\x0e\\x1f\\xbe[|\\xac\"\\xc0t\\x0bV\\xb4\\x0e\\xbb\\x07\\x00\\xcd\\x10^\\xeb\\xf02\\xe4\\xcd\\x16\\xcd\\x19\\xeb\\xfeThis is not a bootable disk.  Please insert a bootable flopy and\\r\\nthe meaning of life = 42\\r\\n\\x00\\x00\\x00\\x00\\x00\\x00\\x00\\x00\\x00\\x00\\x00\\x00\\x00\\x00\\x00\\x00\\x00\\x00\\x00\\x00\\x00\\x00\\x00\\x00\\x00\\x00\\x00\\x00\\x00\\x00\\x00\\x00\\x00\\x00\\x00\\x00\\x00\\x00\\x00\\x00\\x00\\x00\\x00\\x00\\x00\\x00\\x00\\x00\\x00\\x00\\x00\\x00\\x00\\x00\\x00\\x00\\x00\\x00\\x00\\x00\\x00\\x00\\x00\\x00\\x00\\x00\\x00\\x00\\x00\\x00\\x00\\x00\\x00\\x00\\x00\\x00\\x00\\x00\\x00\\x00\\x00\\x00\\x00\\x00\\x00\\x00\\x00\\x00\\x00\\x00\\x00\\x00\\x00\\x00\\x00\\x00\\x00\\x00\\x00\\x00\\x00\\x00\\x00\\x00\\x00\\x00\\x00\\x00\\x00\\x00\\x00\\x00\\x00\\x00\\x00\\x00\\x00\\x00\\x00\\x00\\x00\\x00\\x00\\x00\\x00\\x00\\x00\\x00\\x00\\x00\\x00\\x00\\x00\\x00\\x00\\x00\\x00\\x00\\x00\\x00\\x00\\x00\\x00\\x00\\x00\\x00\\x00\\x00\\x00\\x00\\x00\\x00\\x00\\x00\\x00\\x00\\x00\\x00\\x00\\x00\\x00\\x00\\x00\\x00\\x00\\x00\\x00\\x00\\x00\\x00\\x00\\x00\\x00\\x00\\x00\\x00\\x00\\x00\\x00\\x00\\x00\\x00\\x00\\x00\\x00\\x00\\x00\\x00\\x00\\x00\\x00\\x00\\x00\\x00\\x00\\x00\\x00\\x00\\x00\\x00\\x00\\x00\\x00\\x00\\x00\\x00\\x00\\x00\\x00\\x00\\x00\\x00\\x00\\x00\\x00\\x00\\x00\\x00\\x00\\x00\\x00\\x00\\x00\\x00\\x00\\x00\\x00\\x00\\x00\\x00\\x00\\x00\\x00\\x00\\x00\\x00\\x00\\x00\\x00\\x00\\x00\\x00\\x00\\x00\\x00\\x00\\x00\\x00\\x00\\x00\\x00\\x00\\x00\\x00\\x00\\x00\\x00\\x00\\x00\\x00\\x00\\x00\\x00\\x00\\x00\\x00\\x00\\x00\\x00\\x00\\x00\\x00\\x00\\x00\\x00\\x00\\x00\\x00\\x00\\x00\\x00\\x00\\x00\\x00\\x00\\x00\\x00\\x00\\x00\\x00\\x00\\x00\\x00\\x00\\x00\\x00\\x00\\x00\\x00\\x00\\x00\\x00\\x00\\x00\\x00\\x00\\x00\\x00\\x00\\x00\\x00\\x00\\x00\\x00\\x00\\x00\\x00\\x00\\x00\\x00\\x00\\x00\\x00\\x00\\x00\\x00\\x00U\\xaa', 'jump': b'\\xeb<\\x90', 'oem': b'mkdosfs\\x00', 'bytes_per_sector': 512, 'sectors_per_cluster': 4, 'reserved_size': 8, 'nfats': 2, 'max_files_in_root': 224, 'nsectors16': 0, 'media_type': 248, 'fat_size': 72, 'sectors_per_track': 32, 'nheads': 64, 'sectors_before_partition': 0, 'nsectors32': 73696}\n"
     ]
    }
   ],
   "source": [
    "fat = disk.volume[10].filesystem\n",
    "print(fat.boot_sector.__dict__)"
   ]
  },
  {
   "cell_type": "code",
   "execution_count": 4,
   "metadata": {
    "scrolled": false
   },
   "outputs": [
    {
     "name": "stdout",
     "output_type": "stream",
     "text": [
      "  #  Slot      Start    End    Length  Description                    CHS\n",
      "---  ------  -------  -----  --------  -----------------------------  --------------------\n",
      "  3  0:0          32  30719     30688  Linux native partition (0x83)  CHS 0/1/1 - 14/63/32\n",
      "00000000: EB 52 90 4E 54 46 53 20  20 20 20 00 02 02 00 00  .R.NTFS    .....\n",
      "00000010: 00 00 00 00 00 F8 00 00  20 00 40 00 20 60 04 00  ........ .@. `..\n"
     ]
    }
   ],
   "source": [
    "print(disk.volume[3])\n",
    "hd(disk.volume[14].sectors[0][0:0x20])"
   ]
  },
  {
   "cell_type": "code",
   "execution_count": 5,
   "metadata": {
    "scrolled": false
   },
   "outputs": [
    {
     "data": {
      "text/plain": [
       "Field                            Value\n",
       "-------------------------------  --------------------------\n",
       "JMP                              eb5290\n",
       "Signature                        NTFS    (4e54465320202020)\n",
       "Bytes Per Sector                 512\n",
       "Sectors Per Cluster              2\n",
       "...                              ...\n",
       "Media Descriptor                 248\n",
       "Sectors Per Track                32\n",
       "Number of Heads                  64\n",
       "Hidden Sectors                   286752\n",
       "...                              ...\n",
       "Total Sectors                    131039\n",
       "$MFT Cluster Number              16\n",
       "$MFTMirr Cluster Number          32759\n",
       "Cluster Per File Record Segment  1\n",
       "...                              ...\n",
       "Cluster Per Index Buffer         4\n",
       "...                              ...\n",
       "Volume Serial Number             7829755030752268642\n",
       "...                              ...\n",
       "Bootstrap Code                   fa33c08ed0bc007cfb68\n",
       "Marker                           55aa"
      ]
     },
     "execution_count": 5,
     "metadata": {},
     "output_type": "execute_result"
    }
   ],
   "source": [
    "ntfs = disk.volume[14].filesystem\n",
    "ntfs.boot_sector"
   ]
  },
  {
   "cell_type": "code",
   "execution_count": 6,
   "metadata": {
    "scrolled": false
   },
   "outputs": [
    {
     "data": {
      "text/plain": [
       "Field                            Value\n",
       "-------------------------------  --------------------------\n",
       "JMP                              eb5290\n",
       "Signature                        NTFS    (4e54465320202020)\n",
       "Bytes Per Sector                 512\n",
       "Sectors Per Cluster              2\n",
       "...                              ...\n",
       "Media Descriptor                 248\n",
       "Sectors Per Track                32\n",
       "Number of Heads                  64\n",
       "Hidden Sectors                   286752\n",
       "...                              ...\n",
       "Total Sectors                    131039\n",
       "$MFT Cluster Number              16\n",
       "$MFTMirr Cluster Number          32759\n",
       "Cluster Per File Record Segment  1\n",
       "...                              ...\n",
       "Cluster Per Index Buffer         4\n",
       "...                              ...\n",
       "Volume Serial Number             7829755030752268642\n",
       "...                              ...\n",
       "Bootstrap Code                   fa33c08ed0bc007cfb68\n",
       "Marker                           55aa"
      ]
     },
     "execution_count": 6,
     "metadata": {},
     "output_type": "execute_result"
    }
   ],
   "source": [
    "ntfs.boot_sector"
   ]
  },
  {
   "cell_type": "code",
   "execution_count": 7,
   "metadata": {
    "scrolled": false
   },
   "outputs": [
    {
     "data": {
      "text/plain": [
       "<fff.ntfs.MFT at 0x109cf68d0>"
      ]
     },
     "execution_count": 7,
     "metadata": {},
     "output_type": "execute_result"
    }
   ],
   "source": [
    "ntfs.mft"
   ]
  },
  {
   "cell_type": "code",
   "execution_count": 8,
   "metadata": {},
   "outputs": [
    {
     "data": {
      "text/plain": [
       "Field                   Value\n",
       "----------------------  --------------------------\n",
       "Type ID                 16 ($STANDARD_INFORMATION)\n",
       "Size                    96\n",
       "Non-Resident Flag       False\n",
       "Name Length             0\n",
       "Name Offset             24\n",
       "Flags                   0b0\n",
       "Attribute ID            0\n",
       "Created                 116444736000000000\n",
       "Modified                116444736000000000\n",
       "MFT Modified            116444736000000000\n",
       "Accessed                116444736000000000\n",
       "DOS Permission          0x6 (Hidden, System)\n",
       "Max Version             0\n",
       "Version                 0\n",
       "Class ID                0\n",
       "Owner ID                0\n",
       "Security ID             256\n",
       "Quota Charged           0\n",
       "Update Sequence Number  0"
      ]
     },
     "execution_count": 8,
     "metadata": {},
     "output_type": "execute_result"
    }
   ],
   "source": [
    "ntfs.mft.mft_entry.attrs[0]"
   ]
  }
 ],
 "metadata": {
  "kernelspec": {
   "display_name": "Python 3",
   "language": "python",
   "name": "python3"
  },
  "language_info": {
   "codemirror_mode": {
    "name": "ipython",
    "version": 3
   },
   "file_extension": ".py",
   "mimetype": "text/x-python",
   "name": "python",
   "nbconvert_exporter": "python",
   "pygments_lexer": "ipython3",
   "version": "3.7.2"
  }
 },
 "nbformat": 4,
 "nbformat_minor": 2
}
