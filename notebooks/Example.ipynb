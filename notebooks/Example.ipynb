{
 "cells": [
  {
   "cell_type": "code",
   "execution_count": 1,
   "metadata": {
    "scrolled": true
   },
   "outputs": [
    {
     "data": {
      "text/plain": [
       "  #  Slot      Start  End       Length  Description\n",
       "---  ------  -------  ------  --------  ----------------------------------\n",
       "  1  0             0  0              1  Master Boot Record\n",
       "  2  0:-           1  31            30  Unallocated\n",
       "  3  0:0          32  30719      30688  Linux native partition (0x83)\n",
       "  4  0:1       30720  98303      67584  Linux swap (0x82)\n",
       "  5  0:2       98304  208895    110592  Linux native partition (0x83)\n",
       "  6  0:-      208896  212991      4095  Unallocated\n",
       "  7  0:3      212992  417791    204800  DOS 3.3+ Extended Partition (0x5)\n",
       "  8  1        212992  212992         1  Extended Boot Record\n",
       "  9  1:-      212993  213023        30  Unallocated\n",
       " 10  1:0      213024  286719     73696  Linux native partition (0x83)\n",
       " 11  1:1      286720  417791    131072  DOS 3.3+ Extended Partition (0x5)\n",
       " 12  2        286720  286720         1  Extended Boot Record\n",
       " 13  2:-      286721  286751        30  Unallocated\n",
       " 14  2:0      286752  417791    131040  Linux native partition (0x83)\n",
       " 15  2:-      417792  417792         0  Unallocated\n",
       " 16  2:1      286720  -              0  Unused Partition Table Entry (0x0)\n",
       " 17  2:2      286720  -              0  Unused Partition Table Entry (0x0)\n",
       " 18  2:3      286720  -              0  Unused Partition Table Entry (0x0)\n",
       " 19  1:-      417792  417792         0  Unallocated\n",
       " 20  1:2      212992  -              0  Unused Partition Table Entry (0x0)\n",
       " 21  1:3      212992  -              0  Unused Partition Table Entry (0x0)\n",
       " 22  0:-      417792  419430      1638  Unallocated"
      ]
     },
     "execution_count": 1,
     "metadata": {},
     "output_type": "execute_result"
    }
   ],
   "source": [
    "import fff\n",
    "from hexdump import hexdump as hd\n",
    "\n",
    "disk = fff.DiskImage('/Users/xin/practice1.dd.zip')\n",
    "\n",
    "disk.volume"
   ]
  },
  {
   "cell_type": "code",
   "execution_count": 2,
   "metadata": {},
   "outputs": [
    {
     "name": "stdout",
     "output_type": "stream",
     "text": [
      "  #  Slot      Start    End    Length  Description        CHS\n",
      "---  ------  -------  -----  --------  -----------------  ---------------------\n",
      "  4  0:1       30720  98303     67584  Linux swap (0x82)  CHS 15/0/1 - 47/63/32\n"
     ]
    }
   ],
   "source": [
    "print(disk.volume[4])"
   ]
  },
  {
   "cell_type": "code",
   "execution_count": 3,
   "metadata": {
    "scrolled": false
   },
   "outputs": [
    {
     "name": "stdout",
     "output_type": "stream",
     "text": [
      "<fff.fat.BootSector object at 0x1105a07b8>\n"
     ]
    }
   ],
   "source": [
    "fat = disk.volume[10].filesystem\n",
    "print(fat.boot_sector)"
   ]
  },
  {
   "cell_type": "code",
   "execution_count": 4,
   "metadata": {
    "scrolled": false
   },
   "outputs": [
    {
     "name": "stdout",
     "output_type": "stream",
     "text": [
      "  #  Slot      Start    End    Length  Description                    CHS\n",
      "---  ------  -------  -----  --------  -----------------------------  --------------------\n",
      "  3  0:0          32  30719     30688  Linux native partition (0x83)  CHS 0/1/1 - 14/63/32\n",
      "00000000: EB 52 90 4E 54 46 53 20  20 20 20 00 02 02 00 00  .R.NTFS    .....\n",
      "00000010: 00 00 00 00 00 F8 00 00  20 00 40 00 20 60 04 00  ........ .@. `..\n"
     ]
    }
   ],
   "source": [
    "print(disk.volume[3])\n",
    "hd(disk.volume[14].sectors[0][0:0x20])"
   ]
  },
  {
   "cell_type": "code",
   "execution_count": 5,
   "metadata": {
    "scrolled": false
   },
   "outputs": [
    {
     "data": {
      "text/plain": [
       "Field                            Value\n",
       "-------------------------------  --------------------------\n",
       "JMP                              eb5290\n",
       "Signature                        NTFS    (4e54465320202020)\n",
       "Bytes Per Sector                 512\n",
       "Sectors Per Cluster              2\n",
       "...                              ...\n",
       "Media Descriptor                 248\n",
       "Sectors Per Track                32\n",
       "Number of Heads                  64\n",
       "Hidden Sectors                   286752\n",
       "...                              ...\n",
       "Total Sectors                    131039\n",
       "$MFT Cluster Number              16\n",
       "$MFTMirr Cluster Number          32759\n",
       "Cluster Per File Record Segment  1\n",
       "...                              ...\n",
       "Cluster Per Index Buffer         4\n",
       "...                              ...\n",
       "Volume Serial Number             7829755030752268642\n",
       "...                              ...\n",
       "Bootstrap Code                   fa33c08ed0bc007cfb68\n",
       "Marker                           55aa"
      ]
     },
     "execution_count": 5,
     "metadata": {},
     "output_type": "execute_result"
    }
   ],
   "source": [
    "ntfs = disk.volume[14].filesystem\n",
    "ntfs.boot_sector"
   ]
  },
  {
   "cell_type": "code",
   "execution_count": 6,
   "metadata": {
    "scrolled": true
   },
   "outputs": [
    {
     "name": "stdout",
     "output_type": "stream",
     "text": [
      "320 0x12 []\n",
      "392 0x11 []\n",
      "Field                          Value\n",
      "-----------------------------  --------------\n",
      "Signature                      FILE(46494c45)\n",
      "Offset to Fixup                48\n",
      "Entry Count in Fixup Array     3\n",
      "$LogFile Sequence Number       0\n",
      "Sequence Number                1\n",
      "Link Count                     1\n",
      "Attribute Offset               56\n",
      "Flags                          0b1\n",
      "Used Size of MFT Entry         408\n",
      "Allocated Size of MFT Entry    1024\n",
      "File Reference to Base Record  0\n",
      "Next Attribute ID              4\n",
      "#attributes                    4\n",
      "Field                   Value\n",
      "----------------------  -------------------------\n",
      "Type ID                 16 ($StandardInformation)\n",
      "Name                    b''\n",
      "Size                    96\n",
      "Non-Resident Flag       False (Resident)\n",
      "Name Length             0\n",
      "Name Offset             24\n",
      "Flags                   0b0\n",
      "Attribute ID            0\n",
      "Attribute Length        3577643008\n",
      "Created                 116444736000000000\n",
      "Modified                116444736000000000\n",
      "MFT Modified            116444736000000000\n",
      "Accessed                116444736000000000\n",
      "DOS Permission          0x6 (Hidden, System)\n",
      "Max Version             0\n",
      "Version                 0\n",
      "Class ID                0\n",
      "Owner ID                0\n",
      "Security ID             256\n",
      "Quota Charged           0\n",
      "Update Sequence Number  0\n",
      "Field              Value\n",
      "-----------------  --------------------\n",
      "Type ID            48 ($FILE_NAME)\n",
      "Name               b''\n",
      "Size               104\n",
      "Non-Resident Flag  False (Resident)\n",
      "Name Length        4\n",
      "Name Offset        24\n",
      "Flags              0b110\n",
      "Attribute ID       2\n",
      "Attribute Length   5\n",
      "Created            128797214780000000\n",
      "Modified           128797214780000000\n",
      "MFT Modified       128797214780000000\n",
      "Accessed           128797214780000000\n",
      "Allocated Size     27648\n",
      "Actual Size        104\n",
      "Flags              0x6 (Hidden, System)\n",
      "ER                 0\n",
      "Name Length        4\n",
      "Namespace          3 (Win32 & DOS)\n",
      "File Name          $MFT\n",
      "Field                  Value\n",
      "---------------------  -------------------\n",
      "Type ID                128 ($DATA)\n",
      "Name                   b''\n",
      "Size                   72\n",
      "Non-Resident Flag      True (Non-Resident)\n",
      "Name Length            0\n",
      "Name Offset            64\n",
      "Flags                  0b0\n",
      "Attribute ID           1\n",
      "Attribute Length       268499730\n",
      "Starting VCN           0\n",
      "Last VCN               250\n",
      "DataRuns Offset        64\n",
      "Compression Unit Size  0\n",
      "Allocated Size         257024\n",
      "Actual Size            257024\n",
      "Compressed Size        257024\n",
      "#Data Runs             1\n",
      "Data                   None\n",
      "Field                  Value\n",
      "---------------------  -------------------\n",
      "Type ID                176 ($BITMAP)\n",
      "Name                   b''\n",
      "Size                   72\n",
      "Non-Resident Flag      True (Non-Resident)\n",
      "Name Length            0\n",
      "Name Offset            64\n",
      "Flags                  0b0\n",
      "Attribute ID           3\n",
      "Attribute Length       524561\n",
      "Starting VCN           0\n",
      "Last VCN               0\n",
      "DataRuns Offset        64\n",
      "Compression Unit Size  0\n",
      "Allocated Size         1024\n",
      "Actual Size            32\n",
      "Compressed Size        32\n",
      "#Data Runs             1\n"
     ]
    },
    {
     "data": {
      "text/plain": [
       "[None, None, None, None]"
      ]
     },
     "execution_count": 6,
     "metadata": {},
     "output_type": "execute_result"
    }
   ],
   "source": [
    "print(ntfs.mft.mft_entry)\n",
    "[print(a) for a in ntfs.mft.mft_entry.attrs]"
   ]
  },
  {
   "cell_type": "code",
   "execution_count": 7,
   "metadata": {
    "scrolled": true
   },
   "outputs": [
    {
     "name": "stdout",
     "output_type": "stream",
     "text": [
      "Field                  Value\n",
      "---------------------  -------------------\n",
      "Type ID                128 ($DATA)\n",
      "Name                   b''\n",
      "Size                   72\n",
      "Non-Resident Flag      True (Non-Resident)\n",
      "Name Length            0\n",
      "Name Offset            64\n",
      "Flags                  0b0\n",
      "Attribute ID           1\n",
      "Attribute Length       268499730\n",
      "Starting VCN           0\n",
      "Last VCN               250\n",
      "DataRuns Offset        64\n",
      "Compression Unit Size  0\n",
      "Allocated Size         257024\n",
      "Actual Size            257024\n",
      "Compressed Size        257024\n",
      "#Data Runs             1\n",
      "Data                   None\n"
     ]
    }
   ],
   "source": [
    "print(ntfs.mft.attr(type_id='$DATA'))"
   ]
  },
  {
   "cell_type": "code",
   "execution_count": 8,
   "metadata": {},
   "outputs": [
    {
     "name": "stdout",
     "output_type": "stream",
     "text": [
      "[(251, 16)]\n",
      "00000000: 46 49 4C 45 30 00 03 00  00 00 00 00 00 00 00 00  FILE0...........\n",
      "00000010: 01 00 01 00 38 00 01 00  98 01 00 00 00 04 00 00  ....8...........\n",
      "00000020: 00 00 00 00 00 00 00 00  04 00 00 00 00 00 00 00  ................\n",
      "00000030: B8 00 00 00 00 00 00 00  10 00 00 00 60 00 00 00  ............`...\n",
      "00000040: 00 00 18 00 00 00 00 00  48 00 00 00 18 00 00 00  ........H.......\n",
      "00000050: 00 80 3E D5 DE B1 9D 01  00 80 3E D5 DE B1 9D 01  ..>.......>.....\n",
      "00000060: 00 80 3E D5 DE B1 9D 01  00 80 3E D5 DE B1 9D 01  ..>.......>.....\n",
      "00000070: 06 00 00 00 00 00 00 00  00 00 00 00 00 00 00 00  ................\n",
      "00000080: 00 00 00 00 00 01 00 00  00 00 00 00 00 00 00 00  ................\n",
      "00000090: 00 00 00 00 00 00 00 00  30 00 00 00 68 00 00 00  ........0...h...\n",
      "000000A0: 00 00 18 00 00 00 02 00  4A 00 00 00 18 00 01 00  ........J.......\n",
      "000000B0: 05 00 00 00 00 00 05 00  00 87 05 6B 62 94 C9 01  ...........kb...\n",
      "000000C0: 00 87 05 6B 62 94 C9 01  00 87 05 6B 62 94 C9 01  ...kb......kb...\n",
      "000000D0: 00 87 05 6B 62 94 C9 01  00 6C 00 00 00 00 00 00  ...kb....l......\n",
      "000000E0: 00 6C 00 00 00 00 00 00  06 00 00 00 00 00 00 00  .l..............\n",
      "000000F0: 04 03 24 00 4D 00 46 00  54 00 00 00 00 00 00 00  ..$.M.F.T.......\n",
      "00000100: 80 00 00 00 48 00 00 00  01 00 40 00 00 00 01 00  ....H.....@.....\n",
      "00000110: 00 00 00 00 00 00 00 00  FA 00 00 00 00 00 00 00  ................\n",
      "00000120: 40 00 00 00 00 00 00 00  00 EC 03 00 00 00 00 00  @...............\n",
      "00000130: 00 EC 03 00 00 00 00 00  00 EC 03 00 00 00 00 00  ................\n",
      "00000140: 12 FB 00 10 00 00 00 00  B0 00 00 00 48 00 00 00  ............H...\n",
      "00000150: 01 00 40 00 00 00 03 00  00 00 00 00 00 00 00 00  ..@.............\n",
      "00000160: 00 00 00 00 00 00 00 00  40 00 00 00 00 00 00 00  ........@.......\n",
      "00000170: 00 04 00 00 00 00 00 00  20 00 00 00 00 00 00 00  ........ .......\n",
      "00000180: 20 00 00 00 00 00 00 00  11 01 08 00 00 00 00 00   ...............\n",
      "00000190: FF FF FF FF 00 00 00 00  00 00 00 00 00 00 00 00  ................\n",
      "000001A0: 00 00 00 00 00 00 00 00  00 00 00 00 00 00 00 00  ................\n",
      "000001B0: 00 00 00 00 00 00 00 00  00 00 00 00 00 00 00 00  ................\n",
      "000001C0: 00 00 00 00 00 00 00 00  00 00 00 00 00 00 00 00  ................\n",
      "000001D0: 00 00 00 00 00 00 00 00  00 00 00 00 00 00 00 00  ................\n",
      "000001E0: 00 00 00 00 00 00 00 00  00 00 00 00 00 00 00 00  ................\n",
      "000001F0: 00 00 00 00 00 00 00 00  00 00 00 00 00 00 B8 00  ................\n",
      "00000200: 00 00 00 00 00 00 00 00  00 00 00 00 00 00 00 00  ................\n",
      "00000210: 00 00 00 00 00 00 00 00  00 00 00 00 00 00 00 00  ................\n",
      "00000220: 00 00 00 00 00 00 00 00  00 00 00 00 00 00 00 00  ................\n",
      "00000230: 00 00 00 00 00 00 00 00  00 00 00 00 00 00 00 00  ................\n",
      "00000240: 00 00 00 00 00 00 00 00  00 00 00 00 00 00 00 00  ................\n",
      "00000250: 00 00 00 00 00 00 00 00  00 00 00 00 00 00 00 00  ................\n",
      "00000260: 00 00 00 00 00 00 00 00  00 00 00 00 00 00 00 00  ................\n",
      "00000270: 00 00 00 00 00 00 00 00  00 00 00 00 00 00 00 00  ................\n",
      "00000280: 00 00 00 00 00 00 00 00  00 00 00 00 00 00 00 00  ................\n",
      "00000290: 00 00 00 00 00 00 00 00  00 00 00 00 00 00 00 00  ................\n",
      "000002A0: 00 00 00 00 00 00 00 00  00 00 00 00 00 00 00 00  ................\n",
      "000002B0: 00 00 00 00 00 00 00 00  00 00 00 00 00 00 00 00  ................\n",
      "000002C0: 00 00 00 00 00 00 00 00  00 00 00 00 00 00 00 00  ................\n",
      "000002D0: 00 00 00 00 00 00 00 00  00 00 00 00 00 00 00 00  ................\n",
      "000002E0: 00 00 00 00 00 00 00 00  00 00 00 00 00 00 00 00  ................\n",
      "000002F0: 00 00 00 00 00 00 00 00  00 00 00 00 00 00 00 00  ................\n",
      "00000300: 00 00 00 00 00 00 00 00  00 00 00 00 00 00 00 00  ................\n",
      "00000310: 00 00 00 00 00 00 00 00  00 00 00 00 00 00 00 00  ................\n",
      "00000320: 00 00 00 00 00 00 00 00  00 00 00 00 00 00 00 00  ................\n",
      "00000330: 00 00 00 00 00 00 00 00  00 00 00 00 00 00 00 00  ................\n",
      "00000340: 00 00 00 00 00 00 00 00  00 00 00 00 00 00 00 00  ................\n",
      "00000350: 00 00 00 00 00 00 00 00  00 00 00 00 00 00 00 00  ................\n",
      "00000360: 00 00 00 00 00 00 00 00  00 00 00 00 00 00 00 00  ................\n",
      "00000370: 00 00 00 00 00 00 00 00  00 00 00 00 00 00 00 00  ................\n",
      "00000380: 00 00 00 00 00 00 00 00  00 00 00 00 00 00 00 00  ................\n",
      "00000390: 00 00 00 00 00 00 00 00  00 00 00 00 00 00 00 00  ................\n",
      "000003A0: 00 00 00 00 00 00 00 00  00 00 00 00 00 00 00 00  ................\n",
      "000003B0: 00 00 00 00 00 00 00 00  00 00 00 00 00 00 00 00  ................\n",
      "000003C0: 00 00 00 00 00 00 00 00  00 00 00 00 00 00 00 00  ................\n",
      "000003D0: 00 00 00 00 00 00 00 00  00 00 00 00 00 00 00 00  ................\n",
      "000003E0: 00 00 00 00 00 00 00 00  00 00 00 00 00 00 00 00  ................\n",
      "000003F0: 00 00 00 00 00 00 00 00  00 00 00 00 00 00 B8 00  ................\n"
     ]
    }
   ],
   "source": [
    "print(ntfs.mft.attr(type_id='$DATA').data_runs)\n",
    "hd(ntfs.mft.read2(count=1024))"
   ]
  },
  {
   "cell_type": "code",
   "execution_count": null,
   "metadata": {},
   "outputs": [],
   "source": []
  }
 ],
 "metadata": {
  "kernelspec": {
   "display_name": "Python 3",
   "language": "python",
   "name": "python3"
  },
  "language_info": {
   "codemirror_mode": {
    "name": "ipython",
    "version": 3
   },
   "file_extension": ".py",
   "mimetype": "text/x-python",
   "name": "python",
   "nbconvert_exporter": "python",
   "pygments_lexer": "ipython3",
   "version": "3.7.2"
  }
 },
 "nbformat": 4,
 "nbformat_minor": 2
}
