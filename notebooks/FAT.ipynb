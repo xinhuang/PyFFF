{
 "cells": [
  {
   "cell_type": "code",
   "execution_count": 1,
   "metadata": {},
   "outputs": [
    {
     "name": "stdout",
     "output_type": "stream",
     "text": [
      "           Start     End    Length  Description\n",
      "--  ---  -------  ------  --------  ----------------------------------\n",
      " 0  0          0       0         1  MBR\n",
      " 1  0:0       32   30720     30688  Linux native partition (0x83)\n",
      " 2  0:1    30720   98304     67584  Linux swap (0x82)\n",
      " 3  0:2    98304  208896    110592  Linux native partition (0x83)\n",
      " 4  0:3   212992  417792    204800  DOS 3.3+ Extended Partition (0x5)\n",
      " 5  1     212992  212992         1  EBR\n",
      " 6  1:0   213024  286720     73696  Linux native partition (0x83)\n",
      " 7  1:1   286720  417792    131072  DOS 3.3+ Extended Partition (0x5)\n",
      " 8  2     286720  286720         1  EBR\n",
      " 9  2:0   286752  417792    131040  Linux native partition (0x83)\n",
      "10  2:1   286720  286720         0  Unused Partition Table Entry (0x0)\n",
      "11  2:2   286720  286720         0  Unused Partition Table Entry (0x0)\n",
      "12  2:3   286720  286720         0  Unused Partition Table Entry (0x0)\n",
      "13  1:2   212992  212992         0  Unused Partition Table Entry (0x0)\n",
      "14  1:3   212992  212992         0  Unused Partition Table Entry (0x0)\n"
     ]
    }
   ],
   "source": [
    "import fff\n",
    "from hexdump import hexdump as hd\n",
    "\n",
    "disk = fff.DiskImage('/Users/xin/practice1.dd')\n",
    "\n",
    "print(disk.volume)"
   ]
  },
  {
   "cell_type": "code",
   "execution_count": 3,
   "metadata": {},
   "outputs": [
    {
     "name": "stdout",
     "output_type": "stream",
     "text": [
      "           Start     End    Length  Description                         CHS\n",
      "--  ---  -------  ------  --------  ----------------------------------  -----------------------\n",
      " 4  0:3   212992  417792    204800  DOS 3.3+ Extended Partition (0x5)   CHS 104/0/1 - 203/63/32\n",
      " 5  1     212992  212992         1  EBR\n",
      " 6  1:0   213024  286720     73696  Linux native partition (0x83)       CHS 104/1/1 - 139/63/32\n",
      " 7  1:1   286720  417792    131072  DOS 3.3+ Extended Partition (0x5)   CHS 140/0/1 - 203/63/32\n",
      " 8  2     286720  286720         1  EBR\n",
      " 9  2:0   286752  417792    131040  Linux native partition (0x83)       CHS 140/1/1 - 203/63/32\n",
      "10  2:1   286720  286720         0  Unused Partition Table Entry (0x0)  CHS 0/0/0 - 0/0/0\n",
      "11  2:2   286720  286720         0  Unused Partition Table Entry (0x0)  CHS 0/0/0 - 0/0/0\n",
      "12  2:3   286720  286720         0  Unused Partition Table Entry (0x0)  CHS 0/0/0 - 0/0/0\n",
      "13  1:2   212992  212992         0  Unused Partition Table Entry (0x0)  CHS 0/0/0 - 0/0/0\n",
      "14  1:3   212992  212992         0  Unused Partition Table Entry (0x0)  CHS 0/0/0 - 0/0/0\n"
     ]
    }
   ],
   "source": [
    "print(disk.volume[4])"
   ]
  },
  {
   "cell_type": "code",
   "execution_count": 3,
   "metadata": {},
   "outputs": [
    {
     "name": "stdout",
     "output_type": "stream",
     "text": [
      "00000000: EB 3C 90 6D 6B 64 6F 73  66 73 00 00 02 04 08 00  .<.mkdosfs......\n",
      "00000010: 02 E0 00 00 00 F8 48 00  20 00 40 00 00 00 00 00  ......H. .@.....\n",
      "00000020: E0 1F 01 00 00 00 29 04  3C A0 49 4D 79 44 61 74  ......).<.IMyDat\n",
      "00000030: 61 20 20 20 20 20 46 41  54 31 36 20 20 20 0E 1F  a     FAT16   ..\n",
      "00000040: BE 5B 7C AC 22 C0 74 0B  56 B4 0E BB 07 00 CD 10  .[|.\".t.V.......\n",
      "00000050: 5E EB F0 32 E4 CD 16 CD  19 EB FE 54 68 69 73 20  ^..2.......This \n",
      "00000060: 69 73 20 6E 6F 74 20 61  20 62 6F 6F 74 61 62 6C  is not a bootabl\n",
      "00000070: 65 20 64 69 73 6B 2E 20  20 50 6C 65 61 73 65 20  e disk.  Please \n",
      "00000080: 69 6E 73 65 72 74 20 61  20 62 6F 6F 74 61 62 6C  insert a bootabl\n",
      "00000090: 65 20 66 6C 6F 70 79 20  61 6E 64 0D 0A 74 68 65  e flopy and..the\n",
      "000000A0: 20 6D 65 61 6E 69 6E 67  20 6F 66 20 6C 69 66 65   meaning of life\n",
      "000000B0: 20 3D 20 34 32 0D 0A 00  00 00 00 00 00 00 00 00   = 42...........\n",
      "000000C0: 00 00 00 00 00 00 00 00  00 00 00 00 00 00 00 00  ................\n",
      "000000D0: 00 00 00 00 00 00 00 00  00 00 00 00 00 00 00 00  ................\n",
      "000000E0: 00 00 00 00 00 00 00 00  00 00 00 00 00 00 00 00  ................\n",
      "000000F0: 00 00 00 00 00 00 00 00  00 00 00 00 00 00 00 00  ................\n",
      "00000100: 00 00 00 00 00 00 00 00  00 00 00 00 00 00 00 00  ................\n",
      "00000110: 00 00 00 00 00 00 00 00  00 00 00 00 00 00 00 00  ................\n",
      "00000120: 00 00 00 00 00 00 00 00  00 00 00 00 00 00 00 00  ................\n",
      "00000130: 00 00 00 00 00 00 00 00  00 00 00 00 00 00 00 00  ................\n",
      "00000140: 00 00 00 00 00 00 00 00  00 00 00 00 00 00 00 00  ................\n",
      "00000150: 00 00 00 00 00 00 00 00  00 00 00 00 00 00 00 00  ................\n",
      "00000160: 00 00 00 00 00 00 00 00  00 00 00 00 00 00 00 00  ................\n",
      "00000170: 00 00 00 00 00 00 00 00  00 00 00 00 00 00 00 00  ................\n",
      "00000180: 00 00 00 00 00 00 00 00  00 00 00 00 00 00 00 00  ................\n",
      "00000190: 00 00 00 00 00 00 00 00  00 00 00 00 00 00 00 00  ................\n",
      "000001A0: 00 00 00 00 00 00 00 00  00 00 00 00 00 00 00 00  ................\n",
      "000001B0: 00 00 00 00 00 00 00 00  00 00 00 00 00 00 00 00  ................\n",
      "000001C0: 00 00 00 00 00 00 00 00  00 00 00 00 00 00 00 00  ................\n",
      "000001D0: 00 00 00 00 00 00 00 00  00 00 00 00 00 00 00 00  ................\n",
      "000001E0: 00 00 00 00 00 00 00 00  00 00 00 00 00 00 00 00  ................\n",
      "000001F0: 00 00 00 00 00 00 00 00  00 00 00 00 00 00 55 AA  ..............U.\n"
     ]
    }
   ],
   "source": [
    "hd(disk.volume.partitions[3].ebr.partitions[0].sectors[0])"
   ]
  },
  {
   "cell_type": "code",
   "execution_count": 4,
   "metadata": {},
   "outputs": [
    {
     "data": {
      "text/plain": [
       "<fff.ntfs.NTFS at 0x1057e7ac8>"
      ]
     },
     "execution_count": 4,
     "metadata": {},
     "output_type": "execute_result"
    }
   ],
   "source": [
    "disk.volume.partitions[3].ebr.partitions[1].ebr.partitions[0].filesystem"
   ]
  },
  {
   "cell_type": "code",
   "execution_count": 5,
   "metadata": {},
   "outputs": [
    {
     "name": "stdout",
     "output_type": "stream",
     "text": [
      "           Start      End    Length  Description\n",
      "--  ---  -------  -------  --------  ------------------------------------------------------------\n",
      " 0  0          0        0         1  MBR\n",
      " 1  0:0      128   204928    204800  06 DOS 3.31+ 16-bit FAT (over 32M) (0x6)\n",
      " 2  0:1   204928   409728    204800  WIN95 OSR2 FAT32 (0xb)\n",
      " 3  0:2   409728   614528    204800  07 Windows NT NTFS/exFAT/Advanced Unix/QNX2.x pre-1988 (0x7)\n",
      " 4  0:3   614528  1044608    430080  DOS 3.3+ Extended Partition (0x5)\n",
      " 5  1     614528   614528         1  EBR\n",
      " 6  1:0   614656   819456    204800  07 Windows NT NTFS/exFAT/Advanced Unix/QNX2.x pre-1988 (0x7)\n",
      " 7  1:1   819456  1040768    221312  DOS 3.3+ Extended Partition (0x5)\n",
      " 8  2     819456   819456         1  EBR\n",
      " 9  2:0   819584  1040768    221184  WIN95 OSR2 FAT32 (0xb)\n",
      "10  2:1   819456   819456         0  Unused Partition Table Entry (0x0)\n",
      "11  2:2   819456   819456         0  Unused Partition Table Entry (0x0)\n",
      "12  2:3   819456   819456         0  Unused Partition Table Entry (0x0)\n",
      "13  1:2   614528   614528         0  Unused Partition Table Entry (0x0)\n",
      "14  1:3   614528   614528         0  Unused Partition Table Entry (0x0)\n"
     ]
    }
   ],
   "source": [
    "disk2 = fff.DiskImage('/Users/xin/mbr-demo.dd')\n",
    "\n",
    "print(disk2.volume)"
   ]
  },
  {
   "cell_type": "code",
   "execution_count": 6,
   "metadata": {},
   "outputs": [
    {
     "data": {
      "text/plain": [
       "<fff.fat.FAT32 at 0x1057fec18>"
      ]
     },
     "execution_count": 6,
     "metadata": {},
     "output_type": "execute_result"
    }
   ],
   "source": [
    "disk2.volume.partitions[1].filesystem"
   ]
  },
  {
   "cell_type": "code",
   "execution_count": null,
   "metadata": {},
   "outputs": [],
   "source": []
  },
  {
   "cell_type": "code",
   "execution_count": null,
   "metadata": {},
   "outputs": [],
   "source": []
  }
 ],
 "metadata": {
  "kernelspec": {
   "display_name": "Python 3",
   "language": "python",
   "name": "python3"
  },
  "language_info": {
   "codemirror_mode": {
    "name": "ipython",
    "version": 3
   },
   "file_extension": ".py",
   "mimetype": "text/x-python",
   "name": "python",
   "nbconvert_exporter": "python",
   "pygments_lexer": "ipython3",
   "version": "3.7.2"
  }
 },
 "nbformat": 4,
 "nbformat_minor": 2
}
