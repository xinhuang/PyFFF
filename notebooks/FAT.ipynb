{
 "cells": [
  {
   "cell_type": "code",
   "execution_count": 1,
   "metadata": {},
   "outputs": [
    {
     "data": {
      "text/plain": [
       "  #  Slot      Start  End       Length  Description\n",
       "---  ------  -------  ------  --------  ----------------------------------\n",
       "  1  0             0  0              1  Master Boot Record\n",
       "  2  0:-           1  31            31  Unallocated\n",
       "  3  0:0          32  30719      30688  Linux native partition (0x83)\n",
       "  4  0:1       30720  98303      67584  Linux swap (0x82)\n",
       "  5  0:2       98304  208895    110592  Linux native partition (0x83)\n",
       "  6  0:-      208896  212991      4096  Unallocated\n",
       "  7  0:3      212992  417791    204800  DOS 3.3+ Extended Partition (0x5)\n",
       "  8  1        212992  212992         1  Extended Boot Record\n",
       "  9  1:-      212993  213023        31  Unallocated\n",
       " 10  1:0      213024  286719     73696  Linux native partition (0x83)\n",
       " 11  1:1      286720  417791    131072  DOS 3.3+ Extended Partition (0x5)\n",
       " 12  2        286720  286720         1  Extended Boot Record\n",
       " 13  2:-      286721  286751        31  Unallocated\n",
       " 14  2:0      286752  417791    131040  Linux native partition (0x83)\n",
       " 15  2:1      286720  -              0  Unused Partition Table Entry (0x0)\n",
       " 16  2:2      286720  -              0  Unused Partition Table Entry (0x0)\n",
       " 17  2:3      286720  -              0  Unused Partition Table Entry (0x0)\n",
       " 18  1:2      212992  -              0  Unused Partition Table Entry (0x0)\n",
       " 19  1:3      212992  -              0  Unused Partition Table Entry (0x0)\n",
       " 20  0:-      417792  419429      1638  Unallocated"
      ]
     },
     "execution_count": 1,
     "metadata": {},
     "output_type": "execute_result"
    }
   ],
   "source": [
    "import fff\n",
    "from hexdump import hexdump as hd\n",
    "\n",
    "disk = fff.DiskImage('/Users/xin/practice1.dd')\n",
    "\n",
    "disk.volume"
   ]
  },
  {
   "cell_type": "code",
   "execution_count": 2,
   "metadata": {},
   "outputs": [
    {
     "name": "stdout",
     "output_type": "stream",
     "text": [
      "  #  Slot      Start    End    Length  Description        CHS\n",
      "---  ------  -------  -----  --------  -----------------  ---------------------\n",
      "  4  0:1       30720  98303     67584  Linux swap (0x82)  CHS 15/0/1 - 47/63/32\n"
     ]
    }
   ],
   "source": [
    "print(disk.volume[4])"
   ]
  },
  {
   "cell_type": "code",
   "execution_count": 3,
   "metadata": {
    "scrolled": false
   },
   "outputs": [
    {
     "name": "stdout",
     "output_type": "stream",
     "text": [
      "  #  Slot      Start    End    Length  Description                    CHS\n",
      "---  ------  -------  -----  --------  -----------------------------  --------------------\n",
      "  3  0:0          32  30719     30688  Linux native partition (0x83)  CHS 0/1/1 - 14/63/32\n",
      "00000000: EB 52 90 4E 54 46 53 20  20 20 20 00 02 02 00 00  .R.NTFS    .....\n",
      "00000010: 00 00 00 00 00 F8 00 00  20 00 40 00 20 60 04 00  ........ .@. `..\n"
     ]
    }
   ],
   "source": [
    "print(disk.volume[3])\n",
    "hd(disk.volume[14].sectors[0][0:0x20])"
   ]
  },
  {
   "cell_type": "code",
   "execution_count": 4,
   "metadata": {
    "scrolled": false
   },
   "outputs": [
    {
     "data": {
      "text/plain": [
       "Field                            Value\n",
       "-------------------------------  --------------------------\n",
       "JMP                              eb5290\n",
       "Signature                        NTFS    (4e54465320202020)\n",
       "Bytes Per Sector                 512\n",
       "Sectors Per Cluster              2\n",
       "...                              ...\n",
       "Media Descriptor                 248\n",
       "Sectors Per Track                32\n",
       "Number of Heads                  64\n",
       "Hidden Sectors                   286752\n",
       "...                              ...\n",
       "Total Sectors                    131039\n",
       "$MFT Cluster Number              16\n",
       "$MFTMirr Cluster Number          32759\n",
       "Cluster Per File Record Segment  1\n",
       "...                              ...\n",
       "Cluster Per Index Buffer         4\n",
       "...                              ...\n",
       "Volume Serial Number             7829755030752268642\n",
       "...                              ...\n",
       "Bootstrap Code                   fa33c08ed0bc007cfb68\n",
       "Marker                           55aa"
      ]
     },
     "execution_count": 4,
     "metadata": {},
     "output_type": "execute_result"
    }
   ],
   "source": [
    "ntfs = disk.volume[14].filesystem\n",
    "ntfs.boot_sector"
   ]
  },
  {
   "cell_type": "code",
   "execution_count": 5,
   "metadata": {
    "scrolled": true
   },
   "outputs": [
    {
     "name": "stdout",
     "output_type": "stream",
     "text": [
      "00000000: EB 52 90 4E 54 46 53 20  20 20 20 00 02 02 00 00  .R.NTFS    .....\n",
      "00000010: 00 00 00 00 00 F8 00 00  20 00 40 00 20 60 04 00  ........ .@. `..\n",
      "00000020: 00 00 00 00 80 00 80 00  DF FF 01 00 00 00 00 00  ................\n",
      "00000030: 10 00 00 00 00 00 00 00  F7 7F 00 00 00 00 00 00  ................\n",
      "00000040: 01 00 00 00 04 00 00 00  62 11 51 76 B7 E0 A8 6C  ........b.Qv...l\n",
      "00000050: 00 00 00 00 FA 33 C0 8E  D0 BC 00 7C FB 68 C0 07  .....3.....|.h..\n",
      "00000060: 1F 1E 68 66 00 CB 88 16  0E 00 66 81 3E 03 00 4E  ..hf......f.>..N\n",
      "00000070: 54 46 53 75 15 B4 41 BB  AA 55 CD 13 72 0C 81 FB  TFSu..A..U..r...\n",
      "00000080: 55 AA 75 06 F7 C1 01 00  75 03 E9 D2 00 1E 83 EC  U.u.....u.......\n",
      "00000090: 18 68 1A 00 B4 48 8A 16  0E 00 8B F4 16 1F CD 13  .h...H..........\n",
      "000000A0: 9F 83 C4 18 9E 58 1F 72  E1 3B 06 0B 00 75 DB A3  .....X.r.;...u..\n",
      "000000B0: 0F 00 C1 2E 0F 00 04 1E  5A 33 DB B9 00 20 2B C8  ........Z3... +.\n",
      "000000C0: 66 FF 06 11 00 03 16 0F  00 8E C2 FF 06 16 00 E8  f...............\n",
      "000000D0: 40 00 2B C8 77 EF B8 00  BB CD 1A 66 23 C0 75 2D  @.+.w......f#.u-\n",
      "000000E0: 66 81 FB 54 43 50 41 75  24 81 F9 02 01 72 1E 16  f..TCPAu$....r..\n",
      "000000F0: 68 07 BB 16 68 70 0E 16  68 09 00 66 53 66 53 66  h...hp..h..fSfSf\n",
      "00000100: 55 16 16 16 68 B8 01 66  61 0E 07 CD 1A E9 6A 01  U...h..fa.....j.\n",
      "00000110: 90 90 66 60 1E 06 66 A1  11 00 66 03 06 1C 00 1E  ..f`..f...f.....\n",
      "00000120: 66 68 00 00 00 00 66 50  06 53 68 01 00 68 10 00  fh....fP.Sh..h..\n",
      "00000130: B4 42 8A 16 0E 00 16 1F  8B F4 CD 13 66 59 5B 5A  .B..........fY[Z\n",
      "00000140: 66 59 66 59 1F 0F 82 16  00 66 FF 06 11 00 03 16  fYfY.....f......\n",
      "00000150: 0F 00 8E C2 FF 0E 16 00  75 BC 07 1F 66 61 C3 A0  ........u...fa..\n",
      "00000160: F8 01 E8 08 00 A0 FB 01  E8 02 00 EB FE B4 01 8B  ................\n",
      "00000170: F0 AC 3C 00 74 09 B4 0E  BB 07 00 CD 10 EB F2 C3  ..<.t...........\n",
      "00000180: 0D 0A 41 20 64 69 73 6B  20 72 65 61 64 20 65 72  ..A disk read er\n",
      "00000190: 72 6F 72 20 6F 63 63 75  72 72 65 64 00 0D 0A 42  ror occurred...B\n",
      "000001A0: 4F 4F 54 4D 47 52 20 69  73 20 6D 69 73 73 69 6E  OOTMGR is missin\n",
      "000001B0: 67 00 0D 0A 42 4F 4F 54  4D 47 52 20 69 73 20 63  g...BOOTMGR is c\n",
      "000001C0: 6F 6D 70 72 65 73 73 65  64 00 0D 0A 50 72 65 73  ompressed...Pres\n",
      "000001D0: 73 20 43 74 72 6C 2B 41  6C 74 2B 44 65 6C 20 74  s Ctrl+Alt+Del t\n",
      "000001E0: 6F 20 72 65 73 74 61 72  74 0D 0A 00 00 00 00 00  o restart.......\n",
      "000001F0: 00 00 00 00 00 00 00 00  80 9D B2 CA 00 00 55 AA  ..............U.\n",
      "00000200: 07 00 42 00 4F 00 4F 00  54 00 4D 00 47 00 52 00  ..B.O.O.T.M.G.R.\n",
      "00000210: 04 00 24 00 49 00 33 00  30 00 00 E0 00 00 00 30  ..$.I.3.0......0\n",
      "00000220: 00 00 00 00 00 00 00 00  00 00 00 00 00 00 00 00  ................\n",
      "00000230: 00 00 00 00 00 00 00 00  00 00 00 00 00 00 00 00  ................\n",
      "00000240: 00 00 00 00 00 00 00 00  00 00 00 00 00 00 00 00  ................\n",
      "00000250: 00 00 00 00 00 00 EB 22  90 90 05 00 4E 00 54 00  .......\"....N.T.\n",
      "00000260: 4C 00 44 00 52 00 00 00  00 00 00 00 00 00 00 00  L.D.R...........\n",
      "00000270: 00 00 00 00 00 00 00 00  00 00 66 0F B7 06 0B 00  ..........f.....\n",
      "00000280: 66 0F B6 1E 0D 00 66 F7  E3 66 A3 52 02 66 8B 0E  f.....f..f.R.f..\n",
      "00000290: 40 00 80 F9 00 0F 8F 0E  00 F6 D9 66 B8 01 00 00  @..........f....\n",
      "000002A0: 00 66 D3 E0 EB 08 90 66  A1 52 02 66 F7 E1 66 A3  .f.....f.R.f..f.\n",
      "000002B0: 66 02 66 0F B7 1E 0B 00  66 33 D2 66 F7 F3 66 A3  f.f.....f3.f..f.\n",
      "000002C0: 56 02 E8 95 04 66 8B 0E  4E 02 66 89 0E 26 02 66  V....f..N.f..&.f\n",
      "000002D0: 03 0E 66 02 66 89 0E 2A  02 66 03 0E 66 02 66 89  ..f.f..*.f..f.f.\n",
      "000002E0: 0E 2E 02 66 03 0E 66 02  66 89 0E 3E 02 66 03 0E  ...f..f.f..>.f..\n",
      "000002F0: 66 02 66 89 0E 46 02 66  B8 90 00 00 00 66 8B 0E  f.f..F.f.....f..\n",
      "00000300: 26 02 E8 83 09 66 0B C0  0F 84 53 FE 66 A3 32 02  &....f....S.f.2.\n",
      "00000310: 66 B8 A0 00 00 00 66 8B  0E 2A 02 E8 6A 09 66 A3  f.....f..*..j.f.\n",
      "00000320: 36 02 66 B8 B0 00 00 00  66 8B 0E 2E 02 E8 58 09  6.f.....f.....X.\n",
      "00000330: 66 A3 3A 02 66 A1 32 02  66 0B C0 0F 84 20 FE 67  f.:.f.2.f.... .g\n",
      "00000340: 80 78 08 00 0F 85 17 FE  67 66 8D 50 10 67 03 42  .x......gf.P.g.B\n",
      "00000350: 04 67 66 0F B6 48 0C 66  89 0E 72 02 67 66 8B 48  .gf..H.f..r.gf.H\n",
      "00000360: 08 66 89 0E 6E 02 66 A1  6E 02 66 0F B7 0E 0B 00  .f..n.f.n.f.....\n",
      "00000370: 66 33 D2 66 F7 F1 66 A3  76 02 66 A1 46 02 66 03  f3.f..f.v.f.F.f.\n",
      "00000380: 06 6E 02 66 A3 4A 02 66  83 3E 36 02 00 0F 84 1D  .n.f.J.f.>6.....\n",
      "00000390: 00 66 83 3E 3A 02 00 0F  84 C4 FD 66 8B 1E 3A 02  .f.>:......f..:.\n",
      "000003A0: 1E 07 66 8B 3E 4A 02 66  A1 2E 02 E8 E0 01 66 0F  ..f.>J.f......f.\n",
      "000003B0: B7 0E 00 02 66 B8 02 02  00 00 E8 22 08 66 0B C0  ....f......\".f..\n",
      "000003C0: 0F 85 16 00 66 0F B7 0E  5A 02 66 B8 5C 02 00 00  ....f...Z.f.\\...\n",
      "000003D0: E8 0C 08 66 0B C0 0F 84  42 0C 67 66 8B 00 1E 07  ...f....B.gf....\n",
      "000003E0: 66 8B 3E 3E 02 E8 3F 06  66 A1 3E 02 66 BB 20 00  f.>>..?.f.>.f. .\n",
      "000003F0: 00 00 66 B9 00 00 00 00  66 BA 00 00 00 00 E8 E4  ..f.....f.......\n"
     ]
    }
   ],
   "source": [
    "hd(ntfs.clusters[0])"
   ]
  },
  {
   "cell_type": "code",
   "execution_count": 6,
   "metadata": {},
   "outputs": [
    {
     "data": {
      "text/plain": [
       "  #  Slot      Start  End        Length  Description\n",
       "---  ------  -------  -------  --------  ------------------------------------------------------------\n",
       "  1  0             0  0               1  Master Boot Record\n",
       "  2  0:-           1  127           127  Unallocated\n",
       "  3  0:0         128  204927     204800  06 DOS 3.31+ 16-bit FAT (over 32M) (0x6)\n",
       "  4  0:1      204928  409727     204800  WIN95 OSR2 FAT32 (0xb)\n",
       "  5  0:2      409728  614527     204800  07 Windows NT NTFS/exFAT/Advanced Unix/QNX2.x pre-1988 (0x7)\n",
       "  6  0:3      614528  1044607    430080  DOS 3.3+ Extended Partition (0x5)\n",
       "  7  1        614528  614528          1  Extended Boot Record\n",
       "  8  1:-      614529  614655        127  Unallocated\n",
       "  9  1:0      614656  819455     204800  07 Windows NT NTFS/exFAT/Advanced Unix/QNX2.x pre-1988 (0x7)\n",
       " 10  1:1      819456  1040767    221312  DOS 3.3+ Extended Partition (0x5)\n",
       " 11  2        819456  819456          1  Extended Boot Record\n",
       " 12  2:-      819457  819583        127  Unallocated\n",
       " 13  2:0      819584  1040767    221184  WIN95 OSR2 FAT32 (0xb)\n",
       " 14  2:1      819456  -               0  Unused Partition Table Entry (0x0)\n",
       " 15  2:2      819456  -               0  Unused Partition Table Entry (0x0)\n",
       " 16  2:3      819456  -               0  Unused Partition Table Entry (0x0)\n",
       " 17  1:-     1040768  1044607      3840  Unallocated\n",
       " 18  1:2      614528  -               0  Unused Partition Table Entry (0x0)\n",
       " 19  1:3      614528  -               0  Unused Partition Table Entry (0x0)\n",
       " 20  0:-     1044608  1048575      3968  Unallocated"
      ]
     },
     "execution_count": 6,
     "metadata": {},
     "output_type": "execute_result"
    }
   ],
   "source": [
    "disk2 = fff.DiskImage('/Users/xin/mbr-demo.dd')\n",
    "disk2.volume"
   ]
  },
  {
   "cell_type": "code",
   "execution_count": 7,
   "metadata": {},
   "outputs": [
    {
     "data": {
      "text/plain": [
       "Field                            Value\n",
       "-------------------------------  --------------------------\n",
       "JMP                              eb5290\n",
       "Signature                        NTFS    (4e54465320202020)\n",
       "Bytes Per Sector                 512\n",
       "Sectors Per Cluster              8\n",
       "...                              ...\n",
       "Media Descriptor                 248\n",
       "Sectors Per Track                63\n",
       "Number of Heads                  255\n",
       "Hidden Sectors                   409728\n",
       "...                              ...\n",
       "Total Sectors                    204799\n",
       "$MFT Cluster Number              8533\n",
       "$MFTMirr Cluster Number          2\n",
       "Cluster Per File Record Segment  0.25\n",
       "...                              ...\n",
       "Cluster Per Index Buffer         1\n",
       "...                              ...\n",
       "Volume Serial Number             2749626638967941743\n",
       "...                              ...\n",
       "Bootstrap Code                   fa33c08ed0bc007cfb68\n",
       "Marker                           55aa"
      ]
     },
     "execution_count": 7,
     "metadata": {},
     "output_type": "execute_result"
    }
   ],
   "source": [
    "disk2.volume[5].filesystem.boot_sector"
   ]
  },
  {
   "cell_type": "code",
   "execution_count": 8,
   "metadata": {
    "scrolled": false
   },
   "outputs": [
    {
     "data": {
      "text/plain": [
       "Field                          Value\n",
       "-----------------------------  --------------\n",
       "Signature                      FILE(46494c45)\n",
       "Offset to Fixup                48\n",
       "Entry Count in Fixup Array     3\n",
       "$LogFile Sequence Number       1057504\n",
       "Sequence Number                1\n",
       "Link Count                     1\n",
       "Attribute Offset               56\n",
       "Flags                          0b1\n",
       "Used Size of MFT Entry         416\n",
       "Allocated Size of MFT Entry    1024\n",
       "File Reference to Base Record  0\n",
       "Next Attribute ID              6\n",
       "#attributes                    4"
      ]
     },
     "execution_count": 8,
     "metadata": {},
     "output_type": "execute_result"
    }
   ],
   "source": [
    "disk2.volume[5].filesystem.mft"
   ]
  },
  {
   "cell_type": "code",
   "execution_count": 9,
   "metadata": {},
   "outputs": [
    {
     "name": "stdout",
     "output_type": "stream",
     "text": [
      "Field              Value\n",
      "-----------------  --------------------------\n",
      "Type ID            16 ($STANDARD_INFORMATION)\n",
      "Size               96\n",
      "Non-Resident Flag  0\n",
      "Name Length        0\n",
      "Name Offset        24\n",
      "Flags              0b0\n",
      "Attribute ID       0\n",
      "Field              Value\n",
      "-----------------  ---------------\n",
      "Type ID            48 ($FILE_NAME)\n",
      "Size               104\n",
      "Non-Resident Flag  0\n",
      "Name Length        0\n",
      "Name Offset        24\n",
      "Flags              0b0\n",
      "Attribute ID       3\n",
      "Field              Value\n",
      "-----------------  -----------\n",
      "Type ID            128 ($DATA)\n",
      "Size               72\n",
      "Non-Resident Flag  1\n",
      "Name Length        0\n",
      "Name Offset        64\n",
      "Flags              0b0\n",
      "Attribute ID       1\n",
      "Field              Value\n",
      "-----------------  -------------\n",
      "Type ID            176 ($BITMAP)\n",
      "Size               80\n",
      "Non-Resident Flag  1\n",
      "Name Length        0\n",
      "Name Offset        64\n",
      "Flags              0b0\n",
      "Attribute ID       5\n"
     ]
    },
    {
     "data": {
      "text/plain": [
       "[None, None, None, None]"
      ]
     },
     "execution_count": 9,
     "metadata": {},
     "output_type": "execute_result"
    }
   ],
   "source": [
    "[print(attr) for attr in disk2.volume[5].filesystem.mft.attributes]"
   ]
  }
 ],
 "metadata": {
  "kernelspec": {
   "display_name": "Python 3",
   "language": "python",
   "name": "python3"
  },
  "language_info": {
   "codemirror_mode": {
    "name": "ipython",
    "version": 3
   },
   "file_extension": ".py",
   "mimetype": "text/x-python",
   "name": "python",
   "nbconvert_exporter": "python",
   "pygments_lexer": "ipython3",
   "version": "3.7.2"
  }
 },
 "nbformat": 4,
 "nbformat_minor": 2
}
