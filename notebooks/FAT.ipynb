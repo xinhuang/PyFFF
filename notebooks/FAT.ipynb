{
 "cells": [
  {
   "cell_type": "code",
   "execution_count": 1,
   "metadata": {},
   "outputs": [
    {
     "name": "stdout",
     "output_type": "stream",
     "text": [
      "  Start     End    Length  Description\n",
      "-------  ------  --------  ----------------------------------\n",
      "      0       0         1  MBR\n",
      "     32   30720     30688  Linux native partition (0x83)\n",
      "  30720   98304     67584  Linux swap (0x82)\n",
      "  98304  208896    110592  Linux native partition (0x83)\n",
      " 208896  421887    212991  Unallocated\n",
      " 212992  417792    204800  DOS 3.3+ Extended Partition (0x5)\n",
      " 212992  212992         1  EBR\n",
      " 213024  286720     73696  Linux native partition (0x83)\n",
      " 286720  417792    131072  DOS 3.3+ Extended Partition (0x5)\n",
      " 286720  286720         1  EBR\n",
      " 286752  417792    131040  Linux native partition (0x83)\n",
      " 286720  286720         0  Unused Partition Table Entry (0x0)\n",
      " 286720  286720         0  Unused Partition Table Entry (0x0)\n",
      " 286720  286720         0  Unused Partition Table Entry (0x0)\n",
      " 212992  212992         0  Unused Partition Table Entry (0x0)\n",
      " 212992  212992         0  Unused Partition Table Entry (0x0)\n"
     ]
    }
   ],
   "source": [
    "import fff\n",
    "\n",
    "disk = fff.DiskImage('/Users/xin/practice1.dd')\n",
    "\n",
    "print(disk.volume)"
   ]
  },
  {
   "cell_type": "code",
   "execution_count": 2,
   "metadata": {},
   "outputs": [
    {
     "name": "stdout",
     "output_type": "stream",
     "text": [
      "  Start    End    Length  Description                    CHS\n",
      "-------  -----  --------  -----------------------------  --------------------\n",
      "     32  30720     30688  Linux native partition (0x83)  CHS 0/1/1 - 14/63/32\n"
     ]
    }
   ],
   "source": [
    "print(disk.volume.partitions[0])"
   ]
  },
  {
   "cell_type": "code",
   "execution_count": 4,
   "metadata": {},
   "outputs": [
    {
     "name": "stdout",
     "output_type": "stream",
     "text": [
      "FAT16\n"
     ]
    }
   ],
   "source": [
    "print(disk.volume.partitions[4].ebr.partitions[1].ebr.partitions[0].get_filesystem().type)"
   ]
  },
  {
   "cell_type": "code",
   "execution_count": null,
   "metadata": {},
   "outputs": [],
   "source": []
  }
 ],
 "metadata": {
  "kernelspec": {
   "display_name": "Python 3",
   "language": "python",
   "name": "python3"
  },
  "language_info": {
   "codemirror_mode": {
    "name": "ipython",
    "version": 3
   },
   "file_extension": ".py",
   "mimetype": "text/x-python",
   "name": "python",
   "nbconvert_exporter": "python",
   "pygments_lexer": "ipython3",
   "version": "3.7.2"
  }
 },
 "nbformat": 4,
 "nbformat_minor": 2
}
