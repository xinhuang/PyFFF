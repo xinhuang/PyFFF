{
 "cells": [
  {
   "cell_type": "code",
   "execution_count": 1,
   "metadata": {},
   "outputs": [
    {
     "name": "stdout",
     "output_type": "stream",
     "text": [
      "  #  Slot      Start     End    Length  Description\n",
      "---  ------  -------  ------  --------  ----------------------------------\n",
      "  1  0             0       0         1  Master Boot Record\n",
      "  2  0:-           1      32        32  Unallocated\n",
      "  3  0:0          32   30720     30688  Linux native partition (0x83)\n",
      "  4  0:1       30720   98304     67584  Linux swap (0x82)\n",
      "  5  0:2       98304  208896    110592  Linux native partition (0x83)\n",
      "  6  0:-      208896  212992      4097  Unallocated\n",
      "  7  0:3      212992  417792    204800  DOS 3.3+ Extended Partition (0x5)\n",
      "  8  1        212992  212992         1  Extended Boot Record\n",
      "  9  1:-      212993  213024        32  Unallocated\n",
      " 10  1:0      213024  286720     73696  Linux native partition (0x83)\n",
      " 11  1:1      286720  417792    131072  DOS 3.3+ Extended Partition (0x5)\n",
      " 12  2        286720  286720         1  Extended Boot Record\n",
      " 13  2:-      286721  286752        32  Unallocated\n",
      " 14  2:0      286752  417792    131040  Linux native partition (0x83)\n",
      " 15  2:1      286720  286720         0  Unused Partition Table Entry (0x0)\n",
      " 16  2:2      286720  286720         0  Unused Partition Table Entry (0x0)\n",
      " 17  2:3      286720  286720         0  Unused Partition Table Entry (0x0)\n",
      " 18  1:2      212992  212992         0  Unused Partition Table Entry (0x0)\n",
      " 19  1:3      212992  212992         0  Unused Partition Table Entry (0x0)\n"
     ]
    }
   ],
   "source": [
    "import fff\n",
    "from hexdump import hexdump as hd\n",
    "\n",
    "disk = fff.DiskImage('/Users/xin/practice1.dd')\n",
    "\n",
    "print(disk.volume)"
   ]
  },
  {
   "cell_type": "code",
   "execution_count": 2,
   "metadata": {},
   "outputs": [
    {
     "name": "stdout",
     "output_type": "stream",
     "text": [
      "  #  Slot      Start    End    Length  Description        CHS\n",
      "---  ------  -------  -----  --------  -----------------  ---------------------\n",
      "  4  0:1       30720  98304     67584  Linux swap (0x82)  CHS 15/0/1 - 47/63/32\n"
     ]
    }
   ],
   "source": [
    "print(disk.volume[4])"
   ]
  },
  {
   "cell_type": "code",
   "execution_count": 8,
   "metadata": {},
   "outputs": [
    {
     "name": "stdout",
     "output_type": "stream",
     "text": [
      "31 30 -1\n"
     ]
    },
    {
     "ename": "ValueError",
     "evalue": "read length must be non-negative or -1",
     "output_type": "error",
     "traceback": [
      "\u001b[0;31m---------------------------------------------------------------------------\u001b[0m",
      "\u001b[0;31mValueError\u001b[0m                                Traceback (most recent call last)",
      "\u001b[0;32m<ipython-input-8-fd37f8848902>\u001b[0m in \u001b[0;36m<module>\u001b[0;34m()\u001b[0m\n\u001b[0;32m----> 1\u001b[0;31m \u001b[0mhd\u001b[0m\u001b[0;34m(\u001b[0m\u001b[0mdisk\u001b[0m\u001b[0;34m.\u001b[0m\u001b[0mvolume\u001b[0m\u001b[0;34m[\u001b[0m\u001b[0;36m2\u001b[0m\u001b[0;34m]\u001b[0m\u001b[0;34m.\u001b[0m\u001b[0msectors\u001b[0m\u001b[0;34m[\u001b[0m\u001b[0;34m-\u001b[0m\u001b[0;36m2\u001b[0m\u001b[0;34m:\u001b[0m\u001b[0;34m-\u001b[0m\u001b[0;36m3\u001b[0m\u001b[0;34m]\u001b[0m\u001b[0;34m)\u001b[0m\u001b[0;34m\u001b[0m\u001b[0;34m\u001b[0m\u001b[0m\n\u001b[0m",
      "\u001b[0;32m~/Library/Python/3.7/lib/python/site-packages/fff/__init__.py\u001b[0m in \u001b[0;36m__getitem__\u001b[0;34m(self, index_or_slice)\u001b[0m\n\u001b[1;32m    142\u001b[0m                     \u001b[0mprint\u001b[0m\u001b[0;34m(\u001b[0m\u001b[0mbegin\u001b[0m\u001b[0;34m,\u001b[0m \u001b[0mend\u001b[0m\u001b[0;34m,\u001b[0m \u001b[0mn\u001b[0m\u001b[0;34m)\u001b[0m\u001b[0;34m\u001b[0m\u001b[0;34m\u001b[0m\u001b[0m\n\u001b[1;32m    143\u001b[0m                     return self.entity.read(begin * sector_size,\n\u001b[0;32m--> 144\u001b[0;31m                                             n * sector_size)\n\u001b[0m\u001b[1;32m    145\u001b[0m         \u001b[0;32mreturn\u001b[0m \u001b[0mSectorContainer\u001b[0m\u001b[0;34m(\u001b[0m\u001b[0mself\u001b[0m\u001b[0;34m)\u001b[0m\u001b[0;34m\u001b[0m\u001b[0;34m\u001b[0m\u001b[0m\n\u001b[1;32m    146\u001b[0m \u001b[0;34m\u001b[0m\u001b[0m\n",
      "\u001b[0;32m~/Library/Python/3.7/lib/python/site-packages/fff/__init__.py\u001b[0m in \u001b[0;36mread\u001b[0;34m(self, offset, size)\u001b[0m\n\u001b[1;32m    101\u001b[0m         \u001b[0msize\u001b[0m \u001b[0;34m=\u001b[0m \u001b[0msize\u001b[0m \u001b[0;32mif\u001b[0m \u001b[0msize\u001b[0m \u001b[0;32melse\u001b[0m \u001b[0mself\u001b[0m\u001b[0;34m.\u001b[0m\u001b[0msector_size\u001b[0m\u001b[0;34m\u001b[0m\u001b[0;34m\u001b[0m\u001b[0m\n\u001b[1;32m    102\u001b[0m         \u001b[0mself\u001b[0m\u001b[0;34m.\u001b[0m\u001b[0mdv\u001b[0m\u001b[0;34m.\u001b[0m\u001b[0mseek\u001b[0m\u001b[0;34m(\u001b[0m\u001b[0moffset\u001b[0m\u001b[0;34m)\u001b[0m\u001b[0;34m\u001b[0m\u001b[0;34m\u001b[0m\u001b[0m\n\u001b[0;32m--> 103\u001b[0;31m         \u001b[0;32mreturn\u001b[0m \u001b[0mself\u001b[0m\u001b[0;34m.\u001b[0m\u001b[0mdv\u001b[0m\u001b[0;34m.\u001b[0m\u001b[0mread\u001b[0m\u001b[0;34m(\u001b[0m\u001b[0msize\u001b[0m\u001b[0;34m)\u001b[0m\u001b[0;34m\u001b[0m\u001b[0;34m\u001b[0m\u001b[0m\n\u001b[0m\u001b[1;32m    104\u001b[0m \u001b[0;34m\u001b[0m\u001b[0m\n\u001b[1;32m    105\u001b[0m \u001b[0;34m\u001b[0m\u001b[0m\n",
      "\u001b[0;32m~/Library/Python/3.7/lib/python/site-packages/fff/__init__.py\u001b[0m in \u001b[0;36mread\u001b[0;34m(self, size)\u001b[0m\n\u001b[1;32m     58\u001b[0m             \u001b[0mprint\u001b[0m\u001b[0;34m(\u001b[0m\u001b[0mself\u001b[0m\u001b[0;34m.\u001b[0m\u001b[0mdisk\u001b[0m\u001b[0;34m.\u001b[0m\u001b[0mtell\u001b[0m\u001b[0;34m(\u001b[0m\u001b[0;34m)\u001b[0m\u001b[0;34m,\u001b[0m \u001b[0mself\u001b[0m\u001b[0;34m.\u001b[0m\u001b[0m_begin\u001b[0m\u001b[0;34m,\u001b[0m \u001b[0msize\u001b[0m\u001b[0;34m,\u001b[0m \u001b[0mself\u001b[0m\u001b[0;34m.\u001b[0m\u001b[0m_end\u001b[0m\u001b[0;34m)\u001b[0m\u001b[0;34m\u001b[0m\u001b[0;34m\u001b[0m\u001b[0m\n\u001b[1;32m     59\u001b[0m         \u001b[0;32massert\u001b[0m \u001b[0mself\u001b[0m\u001b[0;34m.\u001b[0m\u001b[0mdisk\u001b[0m\u001b[0;34m.\u001b[0m\u001b[0mtell\u001b[0m\u001b[0;34m(\u001b[0m\u001b[0;34m)\u001b[0m \u001b[0;34m+\u001b[0m \u001b[0msize\u001b[0m \u001b[0;34m-\u001b[0m \u001b[0;36m1\u001b[0m \u001b[0;34m<\u001b[0m \u001b[0mself\u001b[0m\u001b[0;34m.\u001b[0m\u001b[0m_end\u001b[0m\u001b[0;34m\u001b[0m\u001b[0;34m\u001b[0m\u001b[0m\n\u001b[0;32m---> 60\u001b[0;31m         \u001b[0;32mreturn\u001b[0m \u001b[0mself\u001b[0m\u001b[0;34m.\u001b[0m\u001b[0mdisk\u001b[0m\u001b[0;34m.\u001b[0m\u001b[0mread\u001b[0m\u001b[0;34m(\u001b[0m\u001b[0msize\u001b[0m\u001b[0;34m)\u001b[0m\u001b[0;34m\u001b[0m\u001b[0;34m\u001b[0m\u001b[0m\n\u001b[0m\u001b[1;32m     61\u001b[0m \u001b[0;34m\u001b[0m\u001b[0m\n\u001b[1;32m     62\u001b[0m     \u001b[0;32mdef\u001b[0m \u001b[0m__repr__\u001b[0m\u001b[0;34m(\u001b[0m\u001b[0mself\u001b[0m\u001b[0;34m)\u001b[0m\u001b[0;34m:\u001b[0m\u001b[0;34m\u001b[0m\u001b[0;34m\u001b[0m\u001b[0m\n",
      "\u001b[0;31mValueError\u001b[0m: read length must be non-negative or -1"
     ]
    }
   ],
   "source": [
    "hd(disk.volume[2].sectors[-2:-3])"
   ]
  },
  {
   "cell_type": "code",
   "execution_count": 4,
   "metadata": {},
   "outputs": [
    {
     "data": {
      "text/plain": [
       "<fff.ntfs.NTFS at 0x104081748>"
      ]
     },
     "execution_count": 4,
     "metadata": {},
     "output_type": "execute_result"
    }
   ],
   "source": [
    "disk.volume.partitions[3].ebr.partitions[1].ebr.partitions[0].filesystem"
   ]
  },
  {
   "cell_type": "code",
   "execution_count": 5,
   "metadata": {},
   "outputs": [
    {
     "name": "stdout",
     "output_type": "stream",
     "text": [
      "  #  Slot      Start      End    Length  Description\n",
      "---  ------  -------  -------  --------  ------------------------------------------------------------\n",
      "  1  0             0        0         1  Master Boot Record\n",
      "  2  0:-           1      128       128  Unallocated\n",
      "  3  0:0         128   204928    204800  06 DOS 3.31+ 16-bit FAT (over 32M) (0x6)\n",
      "  4  0:1      204928   409728    204800  WIN95 OSR2 FAT32 (0xb)\n",
      "  5  0:2      409728   614528    204800  07 Windows NT NTFS/exFAT/Advanced Unix/QNX2.x pre-1988 (0x7)\n",
      "  6  0:3      614528  1044608    430080  DOS 3.3+ Extended Partition (0x5)\n",
      "  7  1        614528   614528         1  Extended Boot Record\n",
      "  8  1:-      614529   614656       128  Unallocated\n",
      "  9  1:0      614656   819456    204800  07 Windows NT NTFS/exFAT/Advanced Unix/QNX2.x pre-1988 (0x7)\n",
      " 10  1:1      819456  1040768    221312  DOS 3.3+ Extended Partition (0x5)\n",
      " 11  2        819456   819456         1  Extended Boot Record\n",
      " 12  2:-      819457   819584       128  Unallocated\n",
      " 13  2:0      819584  1040768    221184  WIN95 OSR2 FAT32 (0xb)\n",
      " 14  2:1      819456   819456         0  Unused Partition Table Entry (0x0)\n",
      " 15  2:2      819456   819456         0  Unused Partition Table Entry (0x0)\n",
      " 16  2:3      819456   819456         0  Unused Partition Table Entry (0x0)\n",
      " 17  1:2      614528   614528         0  Unused Partition Table Entry (0x0)\n",
      " 18  1:3      614528   614528         0  Unused Partition Table Entry (0x0)\n"
     ]
    }
   ],
   "source": [
    "disk2 = fff.DiskImage('/Users/xin/mbr-demo.dd')\n",
    "\n",
    "print(disk2.volume)"
   ]
  },
  {
   "cell_type": "code",
   "execution_count": 6,
   "metadata": {},
   "outputs": [
    {
     "data": {
      "text/plain": [
       "<fff.fat.FAT32 at 0x104081b00>"
      ]
     },
     "execution_count": 6,
     "metadata": {},
     "output_type": "execute_result"
    }
   ],
   "source": [
    "disk2.volume.partitions[1].filesystem"
   ]
  },
  {
   "cell_type": "code",
   "execution_count": null,
   "metadata": {},
   "outputs": [],
   "source": []
  }
 ],
 "metadata": {
  "kernelspec": {
   "display_name": "Python 3",
   "language": "python",
   "name": "python3"
  },
  "language_info": {
   "codemirror_mode": {
    "name": "ipython",
    "version": 3
   },
   "file_extension": ".py",
   "mimetype": "text/x-python",
   "name": "python",
   "nbconvert_exporter": "python",
   "pygments_lexer": "ipython3",
   "version": "3.7.2"
  }
 },
 "nbformat": 4,
 "nbformat_minor": 2
}
