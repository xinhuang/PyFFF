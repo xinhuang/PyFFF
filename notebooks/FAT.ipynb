{
 "cells": [
  {
   "cell_type": "code",
   "execution_count": 1,
   "metadata": {},
   "outputs": [
    {
     "name": "stdout",
     "output_type": "stream",
     "text": [
      "  #  Slot      Start  End       Length  Description\n",
      "---  ------  -------  ------  --------  ----------------------------------\n",
      "  1  0             0  0              1  Master Boot Record\n",
      "  2  0:-           1  31            31  Unallocated\n",
      "  3  0:0          32  30719      30688  Linux native partition (0x83)\n",
      "  4  0:1       30720  98303      67584  Linux swap (0x82)\n",
      "  5  0:2       98304  208895    110592  Linux native partition (0x83)\n",
      "  6  0:-      208896  212991      4096  Unallocated\n",
      "  7  0:3      212992  417791    204800  DOS 3.3+ Extended Partition (0x5)\n",
      "  8  1        212992  212992         1  Extended Boot Record\n",
      "  9  1:-      212993  213023        31  Unallocated\n",
      " 10  1:0      213024  286719     73696  Linux native partition (0x83)\n",
      " 11  1:1      286720  417791    131072  DOS 3.3+ Extended Partition (0x5)\n",
      " 12  2        286720  286720         1  Extended Boot Record\n",
      " 13  2:-      286721  286751        31  Unallocated\n",
      " 14  2:0      286752  417791    131040  Linux native partition (0x83)\n",
      " 15  2:1      286720  -              0  Unused Partition Table Entry (0x0)\n",
      " 16  2:2      286720  -              0  Unused Partition Table Entry (0x0)\n",
      " 17  2:3      286720  -              0  Unused Partition Table Entry (0x0)\n",
      " 18  1:2      212992  -              0  Unused Partition Table Entry (0x0)\n",
      " 19  1:3      212992  -              0  Unused Partition Table Entry (0x0)\n"
     ]
    }
   ],
   "source": [
    "import fff\n",
    "from hexdump import hexdump as hd\n",
    "\n",
    "disk = fff.DiskImage('/Users/xin/practice1.dd')\n",
    "\n",
    "print(disk.volume)"
   ]
  },
  {
   "cell_type": "code",
   "execution_count": 2,
   "metadata": {},
   "outputs": [
    {
     "name": "stdout",
     "output_type": "stream",
     "text": [
      "  #  Slot      Start    End    Length  Description        CHS\n",
      "---  ------  -------  -----  --------  -----------------  ---------------------\n",
      "  4  0:1       30720  98303     67584  Linux swap (0x82)  CHS 15/0/1 - 47/63/32\n"
     ]
    }
   ],
   "source": [
    "print(disk.volume[4])"
   ]
  },
  {
   "cell_type": "code",
   "execution_count": 3,
   "metadata": {},
   "outputs": [
    {
     "name": "stdout",
     "output_type": "stream",
     "text": [
      "00000000: 00 00 00 00 00 00 00 00  00 00 00 00 00 00 00 00  ................\n",
      "00000010: 00 00 00 00 00 00 00 00  00 00 00 00 00 00 00 00  ................\n",
      "00000020: 00 00 00 00 00 00 00 00  00 00 00 00 00 00 00 00  ................\n",
      "00000030: 00 00 00 00 00 00 00 00  00 00 00 00 00 00 00 00  ................\n",
      "00000040: 00 00 00 00 00 00 00 00  00 00 00 00 00 00 00 00  ................\n",
      "00000050: 00 00 00 00 00 00 00 00  00 00 00 00 00 00 00 00  ................\n",
      "00000060: 00 00 00 00 00 00 00 00  00 00 00 00 00 00 00 00  ................\n",
      "00000070: 00 00 00 00 00 00 00 00  00 00 00 00 00 00 00 00  ................\n",
      "00000080: 00 00 00 00 00 00 00 00  00 00 00 00 00 00 00 00  ................\n",
      "00000090: 00 00 00 00 00 00 00 00  00 00 00 00 00 00 00 00  ................\n",
      "000000A0: 00 00 00 00 00 00 00 00  00 00 00 00 00 00 00 00  ................\n",
      "000000B0: 00 00 00 00 00 00 00 00  00 00 00 00 00 00 00 00  ................\n",
      "000000C0: 00 00 00 00 00 00 00 00  00 00 00 00 00 00 00 00  ................\n",
      "000000D0: 00 00 00 00 00 00 00 00  00 00 00 00 00 00 00 00  ................\n",
      "000000E0: 00 00 00 00 00 00 00 00  00 00 00 00 00 00 00 00  ................\n",
      "000000F0: 00 00 00 00 00 00 00 00  00 00 00 00 00 00 00 00  ................\n",
      "00000100: 00 00 00 00 00 00 00 00  00 00 00 00 00 00 00 00  ................\n",
      "00000110: 00 00 00 00 00 00 00 00  00 00 00 00 00 00 00 00  ................\n",
      "00000120: 00 00 00 00 00 00 00 00  00 00 00 00 00 00 00 00  ................\n",
      "00000130: 00 00 00 00 00 00 00 00  00 00 00 00 00 00 00 00  ................\n",
      "00000140: 00 00 00 00 00 00 00 00  00 00 00 00 00 00 00 00  ................\n",
      "00000150: 00 00 00 00 00 00 00 00  00 00 00 00 00 00 00 00  ................\n",
      "00000160: 00 00 00 00 00 00 00 00  00 00 00 00 00 00 00 00  ................\n",
      "00000170: 00 00 00 00 00 00 00 00  00 00 00 00 00 00 00 00  ................\n",
      "00000180: 00 00 00 00 00 00 00 00  00 00 00 00 00 00 00 00  ................\n",
      "00000190: 00 00 00 00 00 00 00 00  00 00 00 00 00 00 00 00  ................\n",
      "000001A0: 00 00 00 00 00 00 00 00  00 00 00 00 00 00 00 00  ................\n",
      "000001B0: 00 00 00 00 00 00 00 00  00 00 00 00 00 00 00 00  ................\n",
      "000001C0: 00 00 00 00 00 00 00 00  00 00 00 00 00 00 00 00  ................\n",
      "000001D0: 00 00 00 00 00 00 00 00  00 00 00 00 00 00 00 00  ................\n",
      "000001E0: 00 00 00 00 00 00 00 00  00 00 00 00 00 00 00 00  ................\n",
      "000001F0: 00 00 00 00 00 00 00 00  00 00 00 00 00 00 00 00  ................\n"
     ]
    }
   ],
   "source": [
    "hd(disk.volume[2].sectors[-1])"
   ]
  },
  {
   "cell_type": "code",
   "execution_count": 4,
   "metadata": {},
   "outputs": [
    {
     "data": {
      "text/plain": [
       "<fff.ntfs.NTFS at 0x10e521ba8>"
      ]
     },
     "execution_count": 4,
     "metadata": {},
     "output_type": "execute_result"
    }
   ],
   "source": [
    "disk.volume.partitions[3].ebr.partitions[1].ebr.partitions[0].filesystem"
   ]
  },
  {
   "cell_type": "code",
   "execution_count": 5,
   "metadata": {},
   "outputs": [
    {
     "name": "stdout",
     "output_type": "stream",
     "text": [
      "  #  Slot      Start  End        Length  Description\n",
      "---  ------  -------  -------  --------  ------------------------------------------------------------\n",
      "  1  0             0  0               1  Master Boot Record\n",
      "  2  0:-           1  127           127  Unallocated\n",
      "  3  0:0         128  204927     204800  06 DOS 3.31+ 16-bit FAT (over 32M) (0x6)\n",
      "  4  0:1      204928  409727     204800  WIN95 OSR2 FAT32 (0xb)\n",
      "  5  0:2      409728  614527     204800  07 Windows NT NTFS/exFAT/Advanced Unix/QNX2.x pre-1988 (0x7)\n",
      "  6  0:3      614528  1044607    430080  DOS 3.3+ Extended Partition (0x5)\n",
      "  7  1        614528  614528          1  Extended Boot Record\n",
      "  8  1:-      614529  614655        127  Unallocated\n",
      "  9  1:0      614656  819455     204800  07 Windows NT NTFS/exFAT/Advanced Unix/QNX2.x pre-1988 (0x7)\n",
      " 10  1:1      819456  1040767    221312  DOS 3.3+ Extended Partition (0x5)\n",
      " 11  2        819456  819456          1  Extended Boot Record\n",
      " 12  2:-      819457  819583        127  Unallocated\n",
      " 13  2:0      819584  1040767    221184  WIN95 OSR2 FAT32 (0xb)\n",
      " 14  2:1      819456  -               0  Unused Partition Table Entry (0x0)\n",
      " 15  2:2      819456  -               0  Unused Partition Table Entry (0x0)\n",
      " 16  2:3      819456  -               0  Unused Partition Table Entry (0x0)\n",
      " 17  1:2      614528  -               0  Unused Partition Table Entry (0x0)\n",
      " 18  1:3      614528  -               0  Unused Partition Table Entry (0x0)\n"
     ]
    }
   ],
   "source": [
    "disk2 = fff.DiskImage('/Users/xin/mbr-demo.dd')\n",
    "\n",
    "print(disk2.volume)"
   ]
  },
  {
   "cell_type": "code",
   "execution_count": 6,
   "metadata": {},
   "outputs": [
    {
     "data": {
      "text/plain": [
       "<fff.fat.FAT32 at 0x10e54c5f8>"
      ]
     },
     "execution_count": 6,
     "metadata": {},
     "output_type": "execute_result"
    }
   ],
   "source": [
    "disk2.volume.partitions[1].filesystem"
   ]
  },
  {
   "cell_type": "code",
   "execution_count": null,
   "metadata": {},
   "outputs": [],
   "source": []
  }
 ],
 "metadata": {
  "kernelspec": {
   "display_name": "Python 3",
   "language": "python",
   "name": "python3"
  },
  "language_info": {
   "codemirror_mode": {
    "name": "ipython",
    "version": 3
   },
   "file_extension": ".py",
   "mimetype": "text/x-python",
   "name": "python",
   "nbconvert_exporter": "python",
   "pygments_lexer": "ipython3",
   "version": "3.7.2"
  }
 },
 "nbformat": 4,
 "nbformat_minor": 2
}
